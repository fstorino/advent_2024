{
 "cells": [
  {
   "cell_type": "markdown",
   "metadata": {},
   "source": [
    "Conectado a Python 3.12.7"
   ]
  },
  {
   "cell_type": "code",
   "execution_count": 2,
   "id": "e0fb6e1a-c3c2-49d8-a5a3-7cd670a18c9e",
   "metadata": {},
   "outputs": [],
   "source": [
    "input: str = \"\"\"\n",
    "47|53\n",
    "97|13\n",
    "97|61\n",
    "97|47\n",
    "75|29\n",
    "61|13\n",
    "75|53\n",
    "29|13\n",
    "97|29\n",
    "53|29\n",
    "61|53\n",
    "97|53\n",
    "61|29\n",
    "47|13\n",
    "75|47\n",
    "97|75\n",
    "47|61\n",
    "75|61\n",
    "47|29\n",
    "75|13\n",
    "53|13\n",
    "\n",
    "75,47,61,53,29\n",
    "97,61,53,29,13\n",
    "75,29,13\n",
    "75,97,47,61,53\n",
    "61,13,29\n",
    "97,13,75,29,47\n",
    "\"\"\".strip()"
   ]
  },
  {
   "cell_type": "code",
   "execution_count": 3,
   "metadata": {},
   "outputs": [
    {
     "name": "stdout",
     "output_type": "stream",
     "text": [
      "Checando update 75-47-61-53-29:\n",
      "  página 75 OK\n",
      "  página 47 OK\n",
      "  página 61 OK\n",
      "  página 53 OK\n",
      "  página 29 OK\n",
      "  Páginas estão na ordem correta\n",
      "Checando update 97-61-53-29-13:\n",
      "  página 97 OK\n",
      "  página 61 OK\n",
      "  página 53 OK\n",
      "  página 29 OK\n",
      "  página 13 OK\n",
      "  Páginas estão na ordem correta\n",
      "Checando update 75-29-13:\n",
      "  página 75 OK\n",
      "  página 29 OK\n",
      "  página 13 OK\n",
      "  Páginas estão na ordem correta\n",
      "Checando update 75-97-47-61-53:\n",
      "  página 75 deveria vir antes da 97\n",
      "  página 97   página 47   página 61   página 53   Páginas NÃO estão na ordem correta\n",
      "Checando update 61-13-29:\n",
      "  página 61 OK\n",
      "  página 13 deveria vir antes da 29\n",
      "  página 29   Páginas NÃO estão na ordem correta\n",
      "Checando update 97-13-75-29-47:\n",
      "  página 97 OK\n",
      "  página 13 deveria vir antes da 75\n",
      "deveria vir antes da 29\n",
      "deveria vir antes da 47\n",
      "  página 75   página 29 deveria vir antes da 47\n",
      "  página 47   Páginas NÃO estão na ordem correta\n"
     ]
    }
   ],
   "source": [
    "from pprint import pprint\n",
    "\n",
    "lines: list[str] = input.split(\"\\n\")\n",
    "page_order: list[list[int, int]] = []\n",
    "updates: list[list[int]] = []\n",
    "\n",
    "for line in lines:\n",
    "    if \"|\" in line:\n",
    "        page_order.append(list(map(int, line.split(\"|\"))))\n",
    "    elif line:\n",
    "        updates.append(list(map(int, line.split(\",\"))))\n",
    "\n",
    "for update in updates:\n",
    "    correct_order: bool = True\n",
    "    print(f\"\\nChecando update {\"-\".join(map(str, update))}:\")\n",
    "    for page in range(len(update)):\n",
    "        print(f\"  página {update[page]} \", end=\"\", flush=True)\n",
    "        for remaining_page in range(page + 1, len(update)):\n",
    "            if ([update[remaining_page], update[page]] in page_order):\n",
    "                correct_order = False\n",
    "                print(f\"deveria vir antes da {update[remaining_page]}\")\n",
    "        if correct_order: print(\"OK\")\n",
    "    print(f\"  Páginas {\"estão\" if correct_order else \"NÃO estão\"} na ordem correta\")\n"
   ]
  }
 ],
 "metadata": {
  "kernelspec": {
   "display_name": "Python 3",
   "language": "python",
   "name": "python3"
  },
  "language_info": {
   "codemirror_mode": {
    "name": "ipython",
    "version": 3
   },
   "file_extension": ".py",
   "mimetype": "text/x-python",
   "name": "python",
   "nbconvert_exporter": "python",
   "pygments_lexer": "ipython3",
   "version": "3.12.9"
  }
 },
 "nbformat": 4,
 "nbformat_minor": 2
}
