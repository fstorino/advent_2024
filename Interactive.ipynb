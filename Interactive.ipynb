{
 "cells": [
  {
   "cell_type": "markdown",
   "metadata": {},
   "source": [
    "Conectado a Python 3.12.7"
   ]
  },
  {
   "cell_type": "code",
   "execution_count": 6,
   "id": "e0fb6e1a-c3c2-49d8-a5a3-7cd670a18c9e",
   "metadata": {},
   "outputs": [],
   "source": [
    "input: str = \"\"\"\n",
    "47|53\n",
    "97|13\n",
    "97|61\n",
    "97|47\n",
    "75|29\n",
    "61|13\n",
    "75|53\n",
    "29|13\n",
    "97|29\n",
    "53|29\n",
    "61|53\n",
    "97|53\n",
    "61|29\n",
    "47|13\n",
    "75|47\n",
    "97|75\n",
    "47|61\n",
    "75|61\n",
    "47|29\n",
    "75|13\n",
    "53|13\n",
    "\n",
    "75,47,61,53,29\n",
    "97,61,53,29,13\n",
    "75,29,13\n",
    "75,97,47,61,53\n",
    "61,13,29\n",
    "97,13,75,29,47\n",
    "\"\"\".strip()\n",
    "\n",
    "def correctly_ordered_update(update: list[int], rules: list[list[int, int]]) -> bool:\n",
    "    for prev_page in range(len(update)):\n",
    "        for next_page in range(prev_page + 1, len(update)):\n",
    "            if ([update[next_page], update[prev_page]] in rules):\n",
    "                return False\n",
    "\n",
    "    return True\n"
   ]
  },
  {
   "cell_type": "code",
   "execution_count": 9,
   "metadata": {},
   "outputs": [
    {
     "name": "stdout",
     "output_type": "stream",
     "text": [
      "\n",
      "update = [75, 47, 61, 53, 29] OK\n",
      "\n",
      "update = [97, 61, 53, 29, 13] OK\n",
      "\n",
      "update = [75, 29, 13] OK\n",
      "\n",
      "update = [75, 97, 47, 61, 53] ordem correta (24): [97, 75, 47, 61, 53]\n",
      "\n",
      "update = [61, 13, 29] ordem correta (1): [61, 29, 13]\n",
      "\n",
      "update = [97, 13, 75, 29, 47] ordem correta (11): [97, 75, 47, 29, 13]\n"
     ]
    }
   ],
   "source": [
    "import itertools as it\n",
    "\n",
    "rules = []\n",
    "updates = []\n",
    "\n",
    "for line in input.splitlines():\n",
    "    if \"|\" in line:\n",
    "        rules.append(list(map(int, line.split(\"|\"))))\n",
    "    elif line:\n",
    "        updates.append(list(map(int, line.split(\",\"))))\n",
    "\n",
    "for update in updates:\n",
    "    print(f\"\\n{update = } \", end=\"\")\n",
    "    if correctly_ordered_update(update, rules):\n",
    "        print(\"OK\")\n",
    "        continue\n",
    "    for idx, permutation in enumerate(it.permutations(update, len(update))):\n",
    "        if correctly_ordered_update(permutation, rules):\n",
    "            print(f\"ordem correta ({idx}): {list(permutation)}\")\n",
    "            break\n"
   ]
  }
 ],
 "metadata": {
  "kernelspec": {
   "display_name": "Python 3",
   "language": "python",
   "name": "python3"
  },
  "language_info": {
   "codemirror_mode": {
    "name": "ipython",
    "version": 3
   },
   "file_extension": ".py",
   "mimetype": "text/x-python",
   "name": "python",
   "nbconvert_exporter": "python",
   "pygments_lexer": "ipython3",
   "version": "3.12.7"
  }
 },
 "nbformat": 4,
 "nbformat_minor": 2
}
