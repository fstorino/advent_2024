{
 "cells": [
  {
   "cell_type": "markdown",
   "metadata": {},
   "source": [
    "Conectado a Python 3.12.7"
   ]
  },
  {
   "cell_type": "code",
   "execution_count": 10,
   "id": "e0fb6e1a-c3c2-49d8-a5a3-7cd670a18c9e",
   "metadata": {},
   "outputs": [
    {
     "name": "stdout",
     "output_type": "stream",
     "text": [
      "Conta: 9\n"
     ]
    }
   ],
   "source": [
    "from pprint import pprint\n",
    "\n",
    "matches = [\n",
    "    [(1, 0), \"diag esq\", False],\n",
    "    [(5, 1), \"diag esq\", False],\n",
    "    [(7, 1), \"diag dir\", False],\n",
    "    [(1, 2), \"diag esq\", False],\n",
    "    [(1, 2), \"diag dir rev\", False],\n",
    "    [(5, 2), \"diag dir\", False],\n",
    "    [(6, 3), \"diag dir rev\", False],\n",
    "    [(8, 3), \"diag esq rev\", False],\n",
    "    [(1, 4), \"diag dir rev\", False],\n",
    "    [(5, 4), \"diag esq rev\", False],\n",
    "    [(0, 8), \"diag dir rev\", False],\n",
    "    [(2, 8), \"diag esq rev\", False],\n",
    "    [(2, 8), \"diag dir rev\", False],\n",
    "    [(4, 8), \"diag esq rev\", False],\n",
    "    [(4, 8), \"diag dir rev\", False],\n",
    "    [(6, 8), \"diag esq rev\", False],\n",
    "    [(6, 8), \"diag dir rev\", False],\n",
    "    [(8, 8), \"diag esq rev\", False] ]\n",
    "count: int = 0\n",
    "\n",
    "for item in matches:\n",
    "    if item[2]: continue\n",
    "    x, y = item[0]\n",
    "    match item[1]:\n",
    "        case \"diag esq\": # ↘️\n",
    "            try:\n",
    "                linha_match = matches.index([(x, y + 2), \"diag dir rev\", False]) # ↗️\n",
    "                item[2] = True\n",
    "                matches[linha_match][2] = True\n",
    "            except:\n",
    "                pass\n",
    "            try:\n",
    "                linha_match = matches.index([(x + 2, y), \"diag dir\", False]) # ↙️\n",
    "                item[2] = True\n",
    "                matches[linha_match][2] = True\n",
    "            except:\n",
    "                pass\n",
    "        case \"diag dir rev\": # ↗️\n",
    "            try:\n",
    "                linha_match = matches.index([(x + 2, y), \"diag esq rev\", False]) # ↖️\n",
    "                item[2] = True\n",
    "                matches[linha_match][2] = True\n",
    "            except:\n",
    "                pass\n",
    "        case \"diag dir\": # ↙️\n",
    "            try:\n",
    "                linha_match = matches.index([(x, y + 2), \"diag esq rev\", False]) # ↖️\n",
    "                item[2] = True\n",
    "                matches[linha_match][2] = True\n",
    "            except:\n",
    "                pass\n",
    "        case _:\n",
    "            continue\n",
    "    \n",
    "for item in matches:\n",
    "    if item[2]: count += 1\n",
    "\n",
    "print(f\"Conta: {count // 2}\")"
   ]
  }
 ],
 "metadata": {
  "kernelspec": {
   "display_name": "Python 3",
   "language": "python",
   "name": "python3"
  },
  "language_info": {
   "codemirror_mode": {
    "name": "ipython",
    "version": 3
   },
   "file_extension": ".py",
   "mimetype": "text/x-python",
   "name": "python",
   "nbconvert_exporter": "python",
   "pygments_lexer": "ipython3",
   "version": "3.12.7"
  }
 },
 "nbformat": 4,
 "nbformat_minor": 2
}
