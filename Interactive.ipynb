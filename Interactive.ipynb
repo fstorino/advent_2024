{
 "cells": [
  {
   "cell_type": "markdown",
   "metadata": {},
   "source": [
    "Conectado a Python 3.12.7"
   ]
  },
  {
   "cell_type": "code",
   "execution_count": null,
   "id": "e0fb6e1a-c3c2-49d8-a5a3-7cd670a18c9e",
   "metadata": {},
   "outputs": [
    {
     "name": "stdout",
     "output_type": "stream",
     "text": [
      "\n",
      "(('.', '.', '.', '.', 'X', 'X', 'M', 'A', 'S', '.'),\n",
      " ('.', 'S', 'A', 'M', 'X', 'M', 'S', '.', '.', '.'),\n",
      " ('.', '.', '.', 'S', '.', '.', 'A', '.', '.', '.'),\n",
      " ('.', '.', 'A', '.', 'A', '.', 'M', 'S', '.', 'X'),\n",
      " ('X', 'M', 'A', 'S', 'A', 'M', 'X', '.', 'M', 'M'),\n",
      " ('X', '.', '.', '.', '.', '.', 'X', 'A', '.', 'A'),\n",
      " ('S', '.', 'S', '.', 'S', '.', 'S', '.', 'S', 'S'),\n",
      " ('.', 'A', '.', 'A', '.', 'A', '.', 'A', '.', 'A'),\n",
      " ('.', '.', 'M', '.', 'M', '.', 'M', '.', 'M', 'M'),\n",
      " ('.', 'X', '.', 'X', '.', 'X', 'M', 'A', 'S', 'X'))\n",
      "\n"
     ]
    },
    {
     "ename": "TypeError",
     "evalue": "string indices must be integers, not 'str'",
     "output_type": "error",
     "traceback": [
      "\u001b[1;31m---------------------------------------------------------------------------\u001b[0m",
      "\u001b[1;31mTypeError\u001b[0m                                 Traceback (most recent call last)",
      "File \u001b[1;32mc:\\Users\\fstorino\\source\\repos\\advent_2024\\day04.py:76\u001b[0m\n\u001b[0;32m     73\u001b[0m     \u001b[39m.\u001b[39m\u001b[39m.\u001b[39m\u001b[39m.\u001b[39m\n\u001b[0;32m     75\u001b[0m \u001b[39mif\u001b[39;00m \u001b[39m__name__\u001b[39m \u001b[39m==\u001b[39m \u001b[39m\"\u001b[39m\u001b[39m__main__\u001b[39m\u001b[39m\"\u001b[39m:\n\u001b[1;32m---> 76\u001b[0m     main()\n",
      "File \u001b[1;32mc:\\Users\\fstorino\\source\\repos\\advent_2024\\day04.py:15\u001b[0m\n\u001b[0;32m     14\u001b[0m \u001b[39mdef\u001b[39;00m \u001b[39mmain\u001b[39m() \u001b[39m-\u001b[39m\u001b[39m>\u001b[39m \u001b[39mNone\u001b[39;00m:\n\u001b[1;32m---> 15\u001b[0m     part1()\n\u001b[0;32m     16\u001b[0m     part2()\n",
      "File \u001b[1;32mc:\\Users\\fstorino\\source\\repos\\advent_2024\\day04.py:52\u001b[0m\n\u001b[0;32m     50\u001b[0m \u001b[39mfor\u001b[39;00m x \u001b[39min\u001b[39;00m \u001b[39mrange\u001b[39m(x_max):\n\u001b[0;32m     51\u001b[0m     \u001b[39mfor\u001b[39;00m direção \u001b[39min\u001b[39;00m direções:\n\u001b[1;32m---> 52\u001b[0m         \u001b[39mif\u001b[39;00m word \u001b[39m==\u001b[39m get_word(word, char_grid, x, y, direção[\u001b[39m\"\u001b[39;49m\u001b[39mx_step\u001b[39;49m\u001b[39m\"\u001b[39;49m], direção[\u001b[39m\"\u001b[39m\u001b[39my_step\u001b[39m\u001b[39m\"\u001b[39m]):\n\u001b[0;32m     53\u001b[0m             \u001b[39mprint\u001b[39m(\u001b[39mf\u001b[39m\u001b[39m\"\u001b[39m\u001b[39m'\u001b[39m\u001b[39m{\u001b[39;00mword\u001b[39m}\u001b[39;00m\u001b[39m'\u001b[39m\u001b[39m encontrado na posição (\u001b[39m\u001b[39m{\u001b[39;00mx\u001b[39m}\u001b[39;00m\u001b[39m,\u001b[39m\u001b[39m{\u001b[39;00my\u001b[39m}\u001b[39;00m\u001b[39m) \u001b[39m\u001b[39m{\u001b[39;00mdireção\u001b[39m}\u001b[39;00m\u001b[39m\"\u001b[39m)\n",
      "\u001b[1;31mTypeError\u001b[0m: string indices must be integers, not 'str'"
     ]
    }
   ],
   "source": [
    "\"\"\"\n",
    "Advent of Code 2024\n",
    "Day 4\n",
    "https://adventofcode.com/2024/day/4\n",
    "\"\"\"\n",
    "import locale\n",
    "import re\n",
    "from pprint import pprint\n",
    "\n",
    "INPUT_FILE = R\"C:\\Users\\fstorino\\Downloads\\day04_input.txt\"\n",
    "\n",
    "locale.setlocale(locale.LC_ALL, 'pt_BR')\n",
    "\n",
    "def main() -> None:\n",
    "    part1()\n",
    "    part2()\n",
    "\n",
    "def part1() -> None:\n",
    "    word_search: str = \"\"\"\n",
    "....XXMAS.\n",
    ".SAMXMS...\n",
    "...S..A...\n",
    "..A.A.MS.X\n",
    "XMASAMX.MM\n",
    "X.....XA.A\n",
    "S.S.S.S.SS\n",
    ".A.A.A.A.A\n",
    "..M.M.M.MM\n",
    ".X.X.XMASX\n",
    "        \"\"\".strip()\n",
    "    word: str = \"XMAS\"\n",
    "    direções: dict = {\n",
    "        \"horizontal\":         {\"x_step\": 1,  \"y_step\": 0},\n",
    "        \"horizontal_reverso\": {\"x_step\": -1, \"y_step\": 0},\n",
    "        \"vertical\":           {\"x_step\": 0,  \"y_step\": 1},\n",
    "        \"vertical_reverso\":   {\"x_step\": 0,  \"y_step\": -1},\n",
    "        \"diag_esq\":           {\"x_step\": 1,  \"y_step\": 1},\n",
    "        \"diag_esq_reverso\":   {\"x_step\": -1, \"y_step\": -1},\n",
    "        \"diag_dir\":           {\"x_step\": -1, \"y_step\": 1},\n",
    "        \"diag_dir_reverso\":   {\"x_step\": 1,  \"y_step\": -1}\n",
    "        }\n",
    "    \n",
    "    char_grid: tuple[tuple[str]] = tuple(tuple(linha) for linha in word_search.splitlines())\n",
    "    y_max: int = len(char_grid)\n",
    "    x_max: int = len(char_grid[0])\n",
    "    print()\n",
    "    pprint(word_search)\n",
    "    print()\n",
    "    for y in range(y_max):\n",
    "        for x in range(x_max):\n",
    "            for direção in direções:\n",
    "                pprint(direção)\n",
    "                return\n",
    "                \"\"\"\n",
    "                if word == get_word(word, char_grid, x, y, direção[\"x_step\"], direção[\"y_step\"]):\n",
    "                    print(f\"'{word}' encontrado na posição ({x},{y}) {direção}\")\n",
    "                \"\"\"\n",
    "    \n",
    "def get_word(word: str, char_grid: tuple[tuple[str]], x: int, y: int, x_step: int, y_step: int) -> str:\n",
    "    x_length = x + x_step * (len(word) - 1)\n",
    "    y_length = y + y_step * (len(word) - 1)\n",
    "    y_max: int = len(char_grid)\n",
    "    x_max: int = len(char_grid[0])\n",
    "    grid_word: str = \"\"\n",
    "    \n",
    "    # return \"\" if out of grid bounds\n",
    "    if x_length > x_max or x_length < 0: return \"\"\n",
    "    if y_length > y_max or y_length < 0: return \"\"\n",
    "    \n",
    "    # fazer os skips corretos com base em x_step e y_step\n",
    "    for lin in range(y, y_length, y_step):\n",
    "        for col in range(x, x_length, x_step):\n",
    "            grid_word += char_grid[lin][col]\n",
    "    return grid_word\n",
    "\n",
    "def part2() -> None:\n",
    "    ...\n",
    "\n",
    "if __name__ == \"__main__\":\n",
    "    main()"
   ]
  }
 ],
 "metadata": {
  "kernelspec": {
   "display_name": "Python 3",
   "language": "python",
   "name": "python3"
  },
  "language_info": {
   "name": "python",
   "version": "3.12.7"
  }
 },
 "nbformat": 4,
 "nbformat_minor": 2
}
