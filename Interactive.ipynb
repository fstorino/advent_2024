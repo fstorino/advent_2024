{
 "cells": [
  {
   "cell_type": "markdown",
   "metadata": {},
   "source": [
    "Conectado a Python 3.12.7"
   ]
  },
  {
   "cell_type": "code",
   "execution_count": 1,
   "id": "e0fb6e1a-c3c2-49d8-a5a3-7cd670a18c9e",
   "metadata": {},
   "outputs": [],
   "source": [
    "input: list[str] = \"\"\"\n",
    "....#.....\n",
    ".........#\n",
    "..........\n",
    "..#.......\n",
    ".......#..\n",
    "..........\n",
    ".#..^.....\n",
    "........#.\n",
    "#.........\n",
    "......#...\n",
    "\"\"\".strip().splitlines()\n",
    "\n",
    "movements = {\n",
    "        \"<\": {\"x_step\": -1,\n",
    "              \"y_step\": 0,\n",
    "              \"direction\": \"esquerda\"},\n",
    "        \"^\": {\"x_step\": 0,\n",
    "              \"y_step\": -1,\n",
    "              \"direction\": \"cima\"},\n",
    "        \">\": {\"x_step\": 1,\n",
    "              \"y_step\": 0,\n",
    "              \"direction\": \"direita\"},\n",
    "        \"v\": {\"x_step\": 0,\n",
    "              \"y_step\": 1,\n",
    "              \"direction\": \"baixo\"}}"
   ]
  },
  {
   "cell_type": "code",
   "execution_count": 12,
   "metadata": {},
   "outputs": [
    {
     "data": {
      "text/plain": [
       "1"
      ]
     },
     "execution_count": 12,
     "metadata": {},
     "output_type": "execute_result"
    }
   ],
   "source": [
    "matrix = [list(row) for row in input]\n",
    "soma = sum([row.count(\"#\") for row in matrix])\n",
    "matrix[0].count(\"#\")"
   ]
  },
  {
   "cell_type": "markdown",
   "metadata": {},
   "source": [
    "# Move de maneira visual"
   ]
  },
  {
   "cell_type": "code",
   "execution_count": 7,
   "metadata": {},
   "outputs": [
    {
     "ename": "AttributeError",
     "evalue": "type object 'map' has no attribute 'print'",
     "output_type": "error",
     "traceback": [
      "\u001b[1;31m---------------------------------------------------------------------------\u001b[0m",
      "\u001b[1;31mAttributeError\u001b[0m                            Traceback (most recent call last)",
      "Cell \u001b[1;32mIn[7], line 31\u001b[0m\n\u001b[0;32m     29\u001b[0m \u001b[38;5;28;01mwhile\u001b[39;00m \u001b[38;5;28;01mTrue\u001b[39;00m:\n\u001b[0;32m     30\u001b[0m     clear_screen()\n\u001b[1;32m---> 31\u001b[0m     \u001b[38;5;28;43mmap\u001b[39;49m\u001b[38;5;241;43m.\u001b[39;49m\u001b[43mprint\u001b[49m()\n\u001b[0;32m     32\u001b[0m     \u001b[38;5;28mprint\u001b[39m()\n\u001b[0;32m     33\u001b[0m     \u001b[38;5;28mprint\u001b[39m(\u001b[38;5;124mf\u001b[39m\u001b[38;5;124m\"\u001b[39m\u001b[38;5;124mO guarda está em \u001b[39m\u001b[38;5;132;01m{\u001b[39;00mYELLOW\u001b[38;5;132;01m}\u001b[39;00m\u001b[38;5;132;01m{\u001b[39;00m\u001b[38;5;28mmap\u001b[39m\u001b[38;5;241m.\u001b[39mguard_pos\u001b[38;5;132;01m}\u001b[39;00m\u001b[38;5;132;01m{\u001b[39;00mRESET\u001b[38;5;132;01m}\u001b[39;00m\u001b[38;5;124m \u001b[39m\u001b[38;5;124m\"\u001b[39m\n\u001b[0;32m     34\u001b[0m             \u001b[38;5;124mf\u001b[39m\u001b[38;5;124m\"\u001b[39m\u001b[38;5;124mindo para \u001b[39m\u001b[38;5;132;01m{\u001b[39;00mYELLOW\u001b[38;5;132;01m}\u001b[39;00m\u001b[38;5;132;01m{\u001b[39;00m\u001b[38;5;28mmap\u001b[39m\u001b[38;5;241m.\u001b[39mdirection\u001b[38;5;132;01m}\u001b[39;00m\u001b[38;5;132;01m{\u001b[39;00mRESET\u001b[38;5;132;01m}\u001b[39;00m\u001b[38;5;124m\"\u001b[39m)\n",
      "\u001b[1;31mAttributeError\u001b[0m: type object 'map' has no attribute 'print'"
     ]
    }
   ],
   "source": [
    "import os\n",
    "\n",
    "# ANSI escape codes\n",
    "RESET = \"\\033[0m\"\n",
    "\n",
    "# ANSI escape codes for text colors\n",
    "BLACK = \"\\033[30m\"\n",
    "RED = \"\\033[31m\"\n",
    "GREEN = \"\\033[32m\"\n",
    "YELLOW = \"\\033[33m\"\n",
    "BLUE = \"\\033[34m\"\n",
    "MAGENTA = \"\\033[35m\"\n",
    "CYAN = \"\\033[36m\"\n",
    "WHITE = \"\\033[37m\"\n",
    "\n",
    "# ANSI escape codes for text styles\n",
    "BOLD = \"\\033[1m\" + GREEN\n",
    "ITALIC = \"\\033[3m\" + YELLOW\n",
    "BOLD_ITALIC = BOLD + ITALIC + CYAN\n",
    "SUPERSCRIPT = MAGENTA\n",
    "\n",
    "def clear_screen() -> None:\n",
    "    if os.name == \"nt\": # Windows\n",
    "        os.system(\"cls\")\n",
    "    else: # Linux, MacOS\n",
    "        os.system(\"clear\")\n",
    "    return\n",
    "\n",
    "while True:\n",
    "    clear_screen()\n",
    "    map.print()\n",
    "    print()\n",
    "    print(f\"O guarda está em {YELLOW}{map.guard_pos}{RESET} \"\n",
    "            f\"indo para {YELLOW}{map.direction}{RESET}\")\n",
    "    print()\n",
    "    input(f\"Pressione {YELLOW}ENTER{RESET} para o próximo movimento...\")\n",
    "    if not map.move_guard():\n",
    "        break\n",
    "# Mostra o mapa final e a mensagem de fim de jogo\n",
    "clear_screen()\n",
    "map.print()\n",
    "print()\n",
    "print(F\"{RED}Não existem mais movimentos possíveis!{RESET}\")\n"
   ]
  }
 ],
 "metadata": {
  "kernelspec": {
   "display_name": "Python 3",
   "language": "python",
   "name": "python3"
  },
  "language_info": {
   "codemirror_mode": {
    "name": "ipython",
    "version": 3
   },
   "file_extension": ".py",
   "mimetype": "text/x-python",
   "name": "python",
   "nbconvert_exporter": "python",
   "pygments_lexer": "ipython3",
   "version": "3.12.8"
  }
 },
 "nbformat": 4,
 "nbformat_minor": 2
}
